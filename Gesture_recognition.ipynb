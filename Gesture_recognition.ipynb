{
 "cells": [
  {
   "cell_type": "markdown",
   "metadata": {
    "colab_type": "text",
    "id": "Sr1PQ7U_nHzh"
   },
   "source": [
    "# Gesture Recognition\n",
    "In this group project, you are going to build a 3D Conv model that will be able to predict the 5 gestures correctly. Please import the following libraries to get started."
   ]
  },
  {
   "cell_type": "code",
   "execution_count": 0,
   "metadata": {
    "colab": {},
    "colab_type": "code",
    "id": "ofYjAdRInHzs"
   },
   "outputs": [],
   "source": [
    "import numpy as np\n",
    "import os\n",
    "import warnings\n",
    "import cv2\n",
    "warnings.filterwarnings('ignore')\n",
    "from scipy.misc import imread, imresize\n",
    "import datetime\n",
    "import os\n",
    "import keras\n",
    "from keras.models import Sequential, Model\n",
    "from keras.layers import Dense, GRU, Flatten, TimeDistributed, Flatten, BatchNormalization, Activation, Input\n",
    "from keras.layers.convolutional import Conv3D, MaxPooling3D\n",
    "from keras.callbacks import ModelCheckpoint, ReduceLROnPlateau\n",
    "from keras import optimizers\n",
    "from keras.applications import *\n",
    "import matplotlib.pyplot as plt"
   ]
  },
  {
   "cell_type": "markdown",
   "metadata": {
    "colab_type": "text",
    "id": "4O9DB4GAnH0B"
   },
   "source": [
    "We set the random seed so that the results don't vary drastically."
   ]
  },
  {
   "cell_type": "code",
   "execution_count": 0,
   "metadata": {
    "colab": {},
    "colab_type": "code",
    "id": "Szq-ETZ3nH0F"
   },
   "outputs": [],
   "source": [
    "np.random.seed(30)\n",
    "import random as rn\n",
    "rn.seed(30)\n",
    "from keras import backend as K\n",
    "import tensorflow as tf\n",
    "tf.set_random_seed(30)"
   ]
  },
  {
   "cell_type": "markdown",
   "metadata": {
    "colab_type": "text",
    "id": "ama1RVmLnH0T"
   },
   "source": [
    "In this block, you read the folder names for training and validation. You also set the `batch_size` here. Note that you set the batch size in such a way that you are able to use the GPU in full capacity. You keep increasing the batch size until the machine throws an error."
   ]
  },
  {
   "cell_type": "code",
   "execution_count": 0,
   "metadata": {
    "colab": {},
    "colab_type": "code",
    "id": "BmDfAObYnH0W"
   },
   "outputs": [],
   "source": [
    "train_doc = np.random.permutation(open('Project_data/train.csv').readlines())\n",
    "val_doc = np.random.permutation(open('Project_data/val.csv').readlines())\n",
    "batch_size = 10#experiment with the batch size"
   ]
  },
  {
   "cell_type": "markdown",
   "metadata": {
    "colab_type": "text",
    "id": "kpWweh-onH0j"
   },
   "source": [
    "## Generator\n",
    "This is one of the most important part of the code. The overall structure of the generator has been given. In the generator, you are going to preprocess the images as you have images of 2 different dimensions as well as create a batch of video frames. You have to experiment with `img_idx`, `y`,`z` and normalization such that you get high accuracy."
   ]
  },
  {
   "cell_type": "code",
   "execution_count": 0,
   "metadata": {
    "colab": {},
    "colab_type": "code",
    "id": "oGjXHWg7nH0m"
   },
   "outputs": [],
   "source": [
    "IMG_SIZE = 200\n",
    "CHANNELS = 3\n",
    "def generator(source_path, folder_list, batch_size):\n",
    "    print( 'Source path = ', source_path, '; batch size =', batch_size)\n",
    "    img_idx = list(range(0,30,2))#create a list of image numbers you want to use for a particular video\n",
    "    print(len(img_idx))\n",
    "    orig_batch_size = batch_size\n",
    "    while True:\n",
    "        #print('still running')\n",
    "        t = np.random.permutation(folder_list)\n",
    "        batch_size = orig_batch_size\n",
    "        if(len(folder_list)%batch_size)==0:\n",
    "            num_batches = int(len(folder_list)/batch_size)# calculate the number of batches\n",
    "        else:\n",
    "            num_batches = int((len(folder_list)//batch_size) + 1)# calculate the number of batches\n",
    "        #print('len(folder_list)',len(folder_list))\n",
    "        #print('num_batches calculated',num_batches)\n",
    "        for batch in range(num_batches): # we iterate over the number of batches\n",
    "            #print('starting batch',batch,'of ',num_batches)\n",
    "            if(batch==num_batches-1) and (len(folder_list)%batch_size)!=0:\n",
    "                batch_size =  int(len(folder_list)%batch_size)\n",
    "                print('for final batch, size is ',batch_size)\n",
    "            batch_data = np.zeros((batch_size,len(img_idx),IMG_SIZE,IMG_SIZE,CHANNELS)) # x is the number of images you use for each video, (y,z) is the final size of the input images and 3 is the number of channels RGB            \n",
    "            batch_labels = np.zeros((batch_size,5)) # batch_labels is the one hot representation of the output\n",
    "            #act_batch_data = np.zeros((batch_size,len(img_idx),100352))\n",
    "            for folder in range(batch_size): # iterate over the batch_size\n",
    "                imgs = os.listdir(source_path+'/'+ t[folder + (batch*batch_size)].split(';')[0]) # read all the images in the folder\n",
    "                for idx,item in enumerate(img_idx): #  Iterate iver the frames/images of a folder to read them in\n",
    "                    #print('img_idx',img_idx)\n",
    "                    image = imread(source_path+'/'+ t[folder + (batch*batch_size)].strip().split(';')[0]+'/'+imgs[item])\n",
    "                    #print('read image')\n",
    "                    image = imresize(image, (IMG_SIZE, IMG_SIZE))\n",
    "                    batch_data[folder,idx,:,:,0] = (image[:,:,0] - np.mean(image[:,:,0]))/np.std(image[:,:,0])\n",
    "                    batch_data[folder,idx,:,:,1] = (image[:,:,1] - np.mean(image[:,:,1]))/np.std(image[:,:,1])\n",
    "                    batch_data[folder,idx,:,:,2] = (image[:,:,2] - np.mean(image[:,:,2]))/np.std(image[:,:,2])\n",
    "                    \n",
    "                batch_labels[folder, int(t[folder + (batch*batch_size)].strip().split(';')[2])] = 1\n",
    "                \n",
    "                #act_batch_data[folder] = model.predict(batch_data[folder])\n",
    "            #print('yielding batch now')\n",
    "            yield batch_data, batch_labels #you yield the batch_data and the batch_labels, remember what does yield do\n",
    "\n",
    "        \n",
    "        # write the code for the remaining data points which are left after full batches\n"
   ]
  },
  {
   "cell_type": "markdown",
   "metadata": {
    "colab_type": "text",
    "id": "_RWHb7k8nH00"
   },
   "source": [
    "Note here that a video is represented above in the generator as (number of images, height, width, number of channels). Take this into consideration while creating the model architecture."
   ]
  },
  {
   "cell_type": "code",
   "execution_count": 0,
   "metadata": {
    "colab": {},
    "colab_type": "code",
    "id": "ER4YUBebnH02",
    "outputId": "9d0eea0b-331c-422d-f3f6-09aa4396027a"
   },
   "outputs": [
    {
     "name": "stdout",
     "output_type": "stream",
     "text": [
      "# training sequences = 663\n",
      "# validation sequences = 100\n",
      "# epochs = 10\n"
     ]
    }
   ],
   "source": [
    "curr_dt_time = datetime.datetime.now()\n",
    "train_path = 'Project_data/train'\n",
    "val_path = 'Project_data/val'\n",
    "num_train_sequences = len(train_doc)\n",
    "print('# training sequences =', num_train_sequences)\n",
    "num_val_sequences = len(val_doc)\n",
    "print('# validation sequences =', num_val_sequences)\n",
    "num_epochs = 10# choose the number of epochs\n",
    "print ('# epochs =', num_epochs)"
   ]
  },
  {
   "cell_type": "markdown",
   "metadata": {
    "colab_type": "text",
    "id": "Ul764BYGnH1E"
   },
   "source": [
    "## Model\n",
    "Here you make the model using different functionalities that Keras provides. Remember to use `Conv3D` and `MaxPooling3D` and not `Conv2D` and `Maxpooling2D` for a 3D convolution model. You would want to use `TimeDistributed` while building a Conv2D + RNN model. Also remember that the last layer is the softmax. Design the network in such a way that the model is able to give good accuracy on the least number of parameters so that it can fit in the memory of the webcam."
   ]
  },
  {
   "cell_type": "markdown",
   "metadata": {
    "colab_type": "text",
    "id": "DFjvdK4inH1H"
   },
   "source": [
    "We Start by building a CNN + RNN Model.<br/>\n",
    "We use pre trained VGG16 layer and freeze its weights.<br/>\n",
    "We follow it up with the GRU layer and finally finish it up with a final Softmax activation layer."
   ]
  },
  {
   "cell_type": "code",
   "execution_count": 0,
   "metadata": {
    "colab": {},
    "colab_type": "code",
    "id": "ijke6Ro6nH1K",
    "outputId": "ba749eb2-6f7a-4e51-81aa-fbf431f55adb"
   },
   "outputs": [
    {
     "name": "stdout",
     "output_type": "stream",
     "text": [
      "_________________________________________________________________\n",
      "Layer (type)                 Output Shape              Param #   \n",
      "=================================================================\n",
      "input (InputLayer)           (None, 15, 200, 200, 3)   0         \n",
      "_________________________________________________________________\n",
      "timeDistributedVgg16 (TimeDi (None, 15, 6, 6, 512)     14714688  \n",
      "_________________________________________________________________\n",
      "time_distributed_3 (TimeDist (None, 15, 18432)         0         \n",
      "_________________________________________________________________\n",
      "gru_3 (GRU)                  (None, 500)               28399500  \n",
      "_________________________________________________________________\n",
      "dense_3 (Dense)              (None, 5)                 2505      \n",
      "=================================================================\n",
      "Total params: 43,116,693\n",
      "Trainable params: 43,116,693\n",
      "Non-trainable params: 0\n",
      "_________________________________________________________________\n"
     ]
    }
   ],
   "source": [
    "#write your model here\n",
    "TIMESTEPS = 15\n",
    "inputs = Input(shape=(TIMESTEPS,IMG_SIZE,IMG_SIZE,CHANNELS),name='input')\n",
    "output_1 = TimeDistributed(keras.applications.vgg16.VGG16(weights='imagenet',include_top=False,input_shape=(IMG_SIZE,IMG_SIZE,CHANNELS)),name='timeDistributedVgg16')(inputs)\n",
    "output_2 = TimeDistributed(Flatten())(output_1)\n",
    "output_3 = GRU(500,return_sequences=False)(output_2)\n",
    "predictions = Dense(5, activation='softmax')(output_3)\n",
    "\n",
    "pred_model = Model([inputs],predictions)\n",
    "pred_model.summary()"
   ]
  },
  {
   "cell_type": "code",
   "execution_count": 0,
   "metadata": {
    "colab": {},
    "colab_type": "code",
    "id": "Cbl-8S1SnH1X"
   },
   "outputs": [],
   "source": [
    "for layer in pred_model.layers:\n",
    "    if layer.name == 'timeDistributedVgg16':\n",
    "        layer.trainable = False"
   ]
  },
  {
   "cell_type": "code",
   "execution_count": 0,
   "metadata": {
    "colab": {},
    "colab_type": "code",
    "id": "Z2aX-KwunH1l",
    "outputId": "5d35604e-ba49-47cb-a697-23db52e26201"
   },
   "outputs": [
    {
     "name": "stdout",
     "output_type": "stream",
     "text": [
      "_________________________________________________________________\n",
      "Layer (type)                 Output Shape              Param #   \n",
      "=================================================================\n",
      "input (InputLayer)           (None, 15, 200, 200, 3)   0         \n",
      "_________________________________________________________________\n",
      "timeDistributedVgg16 (TimeDi (None, 15, 6, 6, 512)     14714688  \n",
      "_________________________________________________________________\n",
      "time_distributed_3 (TimeDist (None, 15, 18432)         0         \n",
      "_________________________________________________________________\n",
      "gru_3 (GRU)                  (None, 500)               28399500  \n",
      "_________________________________________________________________\n",
      "dense_3 (Dense)              (None, 5)                 2505      \n",
      "=================================================================\n",
      "Total params: 43,116,693\n",
      "Trainable params: 28,402,005\n",
      "Non-trainable params: 14,714,688\n",
      "_________________________________________________________________\n"
     ]
    }
   ],
   "source": [
    "pred_model.summary()"
   ]
  },
  {
   "cell_type": "markdown",
   "metadata": {
    "colab_type": "text",
    "id": "bc-FAb6PnH1x"
   },
   "source": [
    "Now that you have written the model, the next step is to `compile` the model. When you print the `summary` of the model, you'll see the total number of parameters you have to train."
   ]
  },
  {
   "cell_type": "code",
   "execution_count": 0,
   "metadata": {
    "colab": {},
    "colab_type": "code",
    "id": "aUYnt_XnnH12",
    "scrolled": true
   },
   "outputs": [],
   "source": [
    "optimiser = keras.optimizers.Adam()#write your optimizer\n",
    "pred_model.compile(optimizer=optimiser, loss='categorical_crossentropy', metrics=['categorical_accuracy'])"
   ]
  },
  {
   "cell_type": "markdown",
   "metadata": {
    "colab_type": "text",
    "id": "t_xiddQhnH2E"
   },
   "source": [
    "Let us create the `train_generator` and the `val_generator` which will be used in `.fit_generator`."
   ]
  },
  {
   "cell_type": "code",
   "execution_count": 0,
   "metadata": {
    "colab": {},
    "colab_type": "code",
    "id": "CNeBZBarnH2H"
   },
   "outputs": [],
   "source": [
    "train_generator = generator(train_path, train_doc, batch_size)\n",
    "val_generator = generator(val_path, val_doc, batch_size)"
   ]
  },
  {
   "cell_type": "code",
   "execution_count": 0,
   "metadata": {
    "colab": {},
    "colab_type": "code",
    "id": "K7cR3YC7nH2c"
   },
   "outputs": [],
   "source": [
    "model_name = 'model1_init' + '_' + str(curr_dt_time).replace(' ','').replace(':','_') + '/'\n",
    "    \n",
    "if not os.path.exists(model_name):\n",
    "    os.mkdir(model_name)\n",
    "        \n",
    "filepath = model_name + 'model-{epoch:05d}-{loss:.5f}-{categorical_accuracy:.5f}-{val_loss:.5f}-{val_categorical_accuracy:.5f}.h5'\n",
    "\n",
    "checkpoint = ModelCheckpoint(filepath, monitor='val_loss', verbose=5, save_best_only=True, save_weights_only=True, mode='auto', period=1)\n",
    "\n",
    "LR = ReduceLROnPlateau(monitor='val_loss', factor=0.2,\n",
    "                              patience=5)\n",
    "\n",
    "callbacks_list = [checkpoint, LR]"
   ]
  },
  {
   "cell_type": "markdown",
   "metadata": {
    "colab_type": "text",
    "id": "BhKUpy0snH2m"
   },
   "source": [
    "The `steps_per_epoch` and `validation_steps` are used by `fit_generator` to decide the number of next() calls it need to make."
   ]
  },
  {
   "cell_type": "code",
   "execution_count": 0,
   "metadata": {
    "colab": {},
    "colab_type": "code",
    "id": "wBfmWUYznH2o",
    "outputId": "3752e406-a814-4c3b-c4a0-9421c179d99a"
   },
   "outputs": [
    {
     "name": "stdout",
     "output_type": "stream",
     "text": [
      "num_train_sequences 663\n",
      "num_val_sequences 100\n",
      "batch size 10\n",
      "steps_per_epoch 67\n",
      "validation_steps 10\n"
     ]
    }
   ],
   "source": [
    "print('num_train_sequences',len(train_doc))\n",
    "print('num_val_sequences',len(val_doc))\n",
    "print('batch size',batch_size)\n",
    "if (num_train_sequences%batch_size) == 0:\n",
    "    steps_per_epoch = int(num_train_sequences/batch_size)\n",
    "else:\n",
    "    steps_per_epoch = (num_train_sequences//batch_size) + 1\n",
    "\n",
    "if (num_val_sequences%batch_size) == 0:\n",
    "    validation_steps = int(num_val_sequences/batch_size)\n",
    "else:\n",
    "    validation_steps = (num_val_sequences//batch_size) + 1\n",
    "print('steps_per_epoch',steps_per_epoch)\n",
    "print('validation_steps',validation_steps)"
   ]
  },
  {
   "cell_type": "markdown",
   "metadata": {
    "colab_type": "text",
    "id": "ld0Hv1JanH2y"
   },
   "source": [
    "Let us now fit the model. This will start training the model and with the help of the checkpoints, you'll be able to save the model at the end of each epoch."
   ]
  },
  {
   "cell_type": "code",
   "execution_count": 0,
   "metadata": {
    "colab": {},
    "colab_type": "code",
    "id": "dv2NM-MpnH21",
    "outputId": "96bb3815-2c50-4db0-e2bb-2609fb6a6fae"
   },
   "outputs": [
    {
     "name": "stdout",
     "output_type": "stream",
     "text": [
      "Source path =  Project_data/val Source path =  ; batch size = 10\n",
      "15\n",
      "Epoch 1/10\n",
      "Project_data/train ; batch size = 10\n",
      "15\n",
      "for final batch, size is  3\n",
      "\n",
      "Epoch 00001: val_loss improved from inf to 1.30120, saving model to model1_init_2020-02-0307_31_47.605115/model-00001-3.20904-0.38009-1.30120-0.44000.h5\n",
      "Epoch 2/10\n",
      "for final batch, size is  3\n",
      "\n",
      "Epoch 00002: val_loss improved from 1.30120 to 0.98991, saving model to model1_init_2020-02-0307_31_47.605115/model-00002-0.98061-0.68778-0.98991-0.62000.h5\n",
      "Epoch 3/10\n",
      "for final batch, size is  3\n",
      "\n",
      "Epoch 00003: val_loss improved from 0.98991 to 0.79086, saving model to model1_init_2020-02-0307_31_47.605115/model-00003-0.58952-0.86727-0.79086-0.74000.h5\n",
      "Epoch 4/10\n",
      "for final batch, size is  3\n",
      "\n",
      "Epoch 00004: val_loss improved from 0.79086 to 0.67344, saving model to model1_init_2020-02-0307_31_47.605115/model-00004-0.30361-0.96229-0.67344-0.77000.h5\n",
      "Epoch 5/10\n",
      "for final batch, size is  3\n",
      "\n",
      "Epoch 00005: val_loss improved from 0.67344 to 0.55826, saving model to model1_init_2020-02-0307_31_47.605115/model-00005-0.14196-0.99246-0.55826-0.79000.h5\n",
      "Epoch 6/10\n",
      "for final batch, size is  3\n",
      "\n",
      "Epoch 00006: val_loss improved from 0.55826 to 0.54468, saving model to model1_init_2020-02-0307_31_47.605115/model-00006-0.06458-0.99849-0.54468-0.78000.h5\n",
      "Epoch 7/10\n",
      "for final batch, size is  3\n",
      "\n",
      "Epoch 00007: val_loss improved from 0.54468 to 0.53433, saving model to model1_init_2020-02-0307_31_47.605115/model-00007-0.03656-1.00000-0.53433-0.79000.h5\n",
      "Epoch 8/10\n",
      "for final batch, size is  3\n",
      "\n",
      "Epoch 00008: val_loss did not improve from 0.53433\n",
      "Epoch 9/10\n",
      "for final batch, size is  3\n",
      "\n",
      "Epoch 00009: val_loss did not improve from 0.53433\n",
      "Epoch 10/10\n",
      "for final batch, size is  3\n",
      "\n",
      "Epoch 00010: val_loss did not improve from 0.53433\n"
     ]
    },
    {
     "data": {
      "text/plain": [
       "<keras.callbacks.History at 0x7f785413b470>"
      ]
     },
     "execution_count": 33,
     "metadata": {
      "tags": []
     },
     "output_type": "execute_result"
    }
   ],
   "source": [
    "pred_model.fit_generator(train_generator, steps_per_epoch=steps_per_epoch, epochs=10, verbose=5, \n",
    "                    callbacks=callbacks_list, validation_data=val_generator, \n",
    "                    validation_steps=validation_steps, class_weight=None, workers=1)"
   ]
  },
  {
   "cell_type": "code",
   "execution_count": 0,
   "metadata": {
    "colab": {},
    "colab_type": "code",
    "id": "4eel_uUUnH27"
   },
   "outputs": [],
   "source": [
    "import matplotlib.pyplot as plt"
   ]
  },
  {
   "cell_type": "code",
   "execution_count": 0,
   "metadata": {
    "colab": {},
    "colab_type": "code",
    "id": "fA2XSmyXnH3E",
    "outputId": "2f57384a-504e-4aa0-ead7-6a8acdb20396"
   },
   "outputs": [
    {
     "data": {
      "image/png": "[encoded data removed]",
      "text/plain": [
       "<Figure size 432x288 with 1 Axes>"
      ]
     },
     "metadata": {
      "tags": []
     },
     "output_type": "display_data"
    }
   ],
   "source": [
    "plt.figure()\n",
    "plt.title('Train and Val Loss')\n",
    "plt.plot(range(0,10),pred_model.history.history['val_loss'],label='val_loss')\n",
    "plt.plot(range(0,10),pred_model.history.history['loss'],label='train_loss')\n",
    "plt.legend()\n",
    "plt.show()"
   ]
  },
  {
   "cell_type": "code",
   "execution_count": 0,
   "metadata": {
    "colab": {},
    "colab_type": "code",
    "id": "LqAxqC_3nH3K",
    "outputId": "e26ff5a9-f3ab-447f-c9e4-887bab9bf2eb"
   },
   "outputs": [
    {
     "data": {
      "image/png": "[encoded data removed]",
      "text/plain": [
       "<Figure size 432x288 with 1 Axes>"
      ]
     },
     "metadata": {
      "tags": []
     },
     "output_type": "display_data"
    }
   ],
   "source": [
    "plt.figure()\n",
    "plt.title('Train and Val Accuracy')\n",
    "plt.plot(range(0,10),pred_model.history.history['val_categorical_accuracy'],label='validation_acc')\n",
    "plt.plot(range(0,10),pred_model.history.history['categorical_accuracy'],label='train_acc')\n",
    "plt.legend()\n",
    "plt.show()"
   ]
  },
  {
   "cell_type": "markdown",
   "metadata": {
    "colab_type": "text",
    "id": "b-xSoj22nH3U"
   },
   "source": [
    "Try with Dropout, fewer GRU dimensions and Batch Normalization to see if Validation accuracy improves"
   ]
  },
  {
   "cell_type": "code",
   "execution_count": 0,
   "metadata": {
    "colab": {},
    "colab_type": "code",
    "id": "byh8jKuVnH3W",
    "outputId": "444c733a-1af3-490e-9dad-da0e50c4b375"
   },
   "outputs": [
    {
     "name": "stdout",
     "output_type": "stream",
     "text": [
      "_________________________________________________________________\n",
      "Layer (type)                 Output Shape              Param #   \n",
      "=================================================================\n",
      "input (InputLayer)           (None, 15, 200, 200, 3)   0         \n",
      "_________________________________________________________________\n",
      "timeDistributedVgg16 (TimeDi (None, 15, 6, 6, 512)     14714688  \n",
      "_________________________________________________________________\n",
      "time_distributed_7 (TimeDist (None, 15, 6, 6, 512)     0         \n",
      "_________________________________________________________________\n",
      "time_distributed_8 (TimeDist (None, 15, 6, 6, 512)     2048      \n",
      "_________________________________________________________________\n",
      "time_distributed_9 (TimeDist (None, 15, 18432)         0         \n",
      "_________________________________________________________________\n",
      "gru_3 (GRU)                  (None, 300)               16859700  \n",
      "_________________________________________________________________\n",
      "dense_3 (Dense)              (None, 5)                 1505      \n",
      "=================================================================\n",
      "Total params: 31,577,941\n",
      "Trainable params: 31,576,917\n",
      "Non-trainable params: 1,024\n",
      "_________________________________________________________________\n"
     ]
    }
   ],
   "source": [
    "#write your model here\n",
    "TIMESTEPS = 15\n",
    "inputs = Input(shape=(TIMESTEPS,IMG_SIZE,IMG_SIZE,CHANNELS),name='input')\n",
    "output_1 = TimeDistributed(keras.applications.vgg16.VGG16(weights='imagenet',include_top=False,input_shape=(IMG_SIZE,IMG_SIZE,CHANNELS)),name='timeDistributedVgg16')(inputs)\n",
    "output_2 = TimeDistributed(keras.layers.Dropout(0.9))(output_1)\n",
    "output_3 = TimeDistributed(keras.layers.BatchNormalization())(output_2)\n",
    "output_4 = TimeDistributed(Flatten())(output_3)\n",
    "output_5 = GRU(300,return_sequences=False)(output_4)\n",
    "predictions = Dense(5, activation='softmax')(output_5)\n",
    "\n",
    "pred_model_2 = Model([inputs],predictions)\n",
    "pred_model_2.summary()"
   ]
  },
  {
   "cell_type": "code",
   "execution_count": 0,
   "metadata": {
    "colab": {},
    "colab_type": "code",
    "id": "adJ1h7thnH3c"
   },
   "outputs": [],
   "source": [
    "for layer in pred_model_2.layers:\n",
    "    if layer.name == 'timeDistributedVgg16':\n",
    "        layer.trainable = False"
   ]
  },
  {
   "cell_type": "code",
   "execution_count": 0,
   "metadata": {
    "colab": {},
    "colab_type": "code",
    "id": "aO_J8i-jnH3l",
    "outputId": "2b157999-1b6a-4757-9141-daa24e7fc147"
   },
   "outputs": [
    {
     "name": "stdout",
     "output_type": "stream",
     "text": [
      "_________________________________________________________________\n",
      "Layer (type)                 Output Shape              Param #   \n",
      "=================================================================\n",
      "input (InputLayer)           (None, 15, 200, 200, 3)   0         \n",
      "_________________________________________________________________\n",
      "timeDistributedVgg16 (TimeDi (None, 15, 6, 6, 512)     14714688  \n",
      "_________________________________________________________________\n",
      "time_distributed_7 (TimeDist (None, 15, 6, 6, 512)     0         \n",
      "_________________________________________________________________\n",
      "time_distributed_8 (TimeDist (None, 15, 6, 6, 512)     2048      \n",
      "_________________________________________________________________\n",
      "time_distributed_9 (TimeDist (None, 15, 18432)         0         \n",
      "_________________________________________________________________\n",
      "gru_3 (GRU)                  (None, 300)               16859700  \n",
      "_________________________________________________________________\n",
      "dense_3 (Dense)              (None, 5)                 1505      \n",
      "=================================================================\n",
      "Total params: 31,577,941\n",
      "Trainable params: 16,862,229\n",
      "Non-trainable params: 14,715,712\n",
      "_________________________________________________________________\n"
     ]
    }
   ],
   "source": [
    "pred_model_2.summary()"
   ]
  },
  {
   "cell_type": "code",
   "execution_count": 0,
   "metadata": {
    "colab": {},
    "colab_type": "code",
    "id": "6jQ2m2StnH3q"
   },
   "outputs": [],
   "source": [
    "optimiser = keras.optimizers.Adam()#write your optimizer\n",
    "pred_model_2.compile(optimizer=optimiser, loss='categorical_crossentropy', metrics=['categorical_accuracy'])"
   ]
  },
  {
   "cell_type": "code",
   "execution_count": 0,
   "metadata": {
    "colab": {},
    "colab_type": "code",
    "id": "92VvDGcEnH3x"
   },
   "outputs": [],
   "source": [
    "model_name = 'model2_init' + '_' + str(curr_dt_time).replace(' ','').replace(':','_') + '/'\n",
    "    \n",
    "if not os.path.exists(model_name):\n",
    "    os.mkdir(model_name)\n",
    "        \n",
    "filepath = model_name + 'model-{epoch:05d}-{loss:.5f}-{categorical_accuracy:.5f}-{val_loss:.5f}-{val_categorical_accuracy:.5f}.h5'\n",
    "\n",
    "checkpoint = ModelCheckpoint(filepath, monitor='val_loss', verbose=5, save_best_only=True, save_weights_only=True, mode='auto', period=1)\n",
    "\n",
    "LR = ReduceLROnPlateau(monitor='val_loss', factor=0.2,\n",
    "                              patience=2)\n",
    "\n",
    "callbacks_list = [checkpoint, LR]"
   ]
  },
  {
   "cell_type": "code",
   "execution_count": 0,
   "metadata": {
    "colab": {},
    "colab_type": "code",
    "id": "ZLx7P4efnH35",
    "outputId": "74e2e73d-1e8d-4bb3-b1d8-4eafd41667bd"
   },
   "outputs": [
    {
     "name": "stdout",
     "output_type": "stream",
     "text": [
      "Epoch 1/10\n",
      "for final batch, size is  3\n",
      "\n",
      "Epoch 00001: val_loss improved from inf to 0.73091, saving model to model2_init_2020-02-0515_38_04.829051/model-00001-1.18345-0.57919-0.73091-0.73000.h5\n",
      "Epoch 2/10\n",
      "for final batch, size is  3\n",
      "\n",
      "Epoch 00002: val_loss improved from 0.73091 to 0.53389, saving model to model2_init_2020-02-0515_38_04.829051/model-00002-0.27966-0.90649-0.53389-0.78000.h5\n",
      "Epoch 3/10\n",
      "for final batch, size is  3\n",
      "\n",
      "Epoch 00003: val_loss improved from 0.53389 to 0.39852, saving model to model2_init_2020-02-0515_38_04.829051/model-00003-0.10013-0.97285-0.39852-0.84000.h5\n",
      "Epoch 4/10\n",
      "for final batch, size is  3\n",
      "\n",
      "Epoch 00004: val_loss did not improve from 0.39852\n",
      "Epoch 5/10\n",
      "for final batch, size is  3\n",
      "\n",
      "Epoch 00005: val_loss did not improve from 0.39852\n",
      "Epoch 6/10\n",
      "for final batch, size is  3\n",
      "\n",
      "Epoch 00006: val_loss did not improve from 0.39852\n",
      "Epoch 7/10\n",
      "for final batch, size is  3\n",
      "\n",
      "Epoch 00007: val_loss improved from 0.39852 to 0.19792, saving model to model2_init_2020-02-0515_38_04.829051/model-00007-0.01012-1.00000-0.19792-0.92000.h5\n",
      "Epoch 8/10\n",
      "for final batch, size is  3\n",
      "\n",
      "Epoch 00008: val_loss did not improve from 0.19792\n",
      "Epoch 9/10\n",
      "for final batch, size is  3\n",
      "\n",
      "Epoch 00009: val_loss did not improve from 0.19792\n",
      "Epoch 10/10\n",
      "for final batch, size is  3\n",
      "\n",
      "Epoch 00010: val_loss did not improve from 0.19792\n"
     ]
    },
    {
     "data": {
      "text/plain": [
       "<keras.callbacks.History at 0x7ffab5b51080>"
      ]
     },
     "execution_count": 34,
     "metadata": {
      "tags": []
     },
     "output_type": "execute_result"
    }
   ],
   "source": [
    "pred_model_2.fit_generator(train_generator, steps_per_epoch=steps_per_epoch, epochs=10, verbose=5, \n",
    "                    callbacks=callbacks_list, validation_data=val_generator, \n",
    "                    validation_steps=validation_steps, class_weight=None)"
   ]
  },
  {
   "cell_type": "code",
   "execution_count": 0,
   "metadata": {
    "colab": {},
    "colab_type": "code",
    "id": "Cma1BpQPnH3_",
    "outputId": "780a628d-4936-40f7-d6e1-742a46307138"
   },
   "outputs": [
    {
     "data": {
      "image/png": "[encoded data removed]",
      "text/plain": [
       "<Figure size 432x288 with 1 Axes>"
      ]
     },
     "metadata": {
      "tags": []
     },
     "output_type": "display_data"
    }
   ],
   "source": [
    "plt.figure()\n",
    "plt.title('Train and Val Loss')\n",
    "plt.plot(range(0,10),pred_model_2.history.history['val_loss'],label='val_loss')\n",
    "plt.plot(range(0,10),pred_model_2.history.history['loss'],label='train_loss')\n",
    "plt.legend()\n",
    "plt.show()"
   ]
  },
  {
   "cell_type": "code",
   "execution_count": 0,
   "metadata": {
    "colab": {},
    "colab_type": "code",
    "id": "EDxq86VanH4G",
    "outputId": "5510c9bc-b4d9-4d65-c326-14d711c49892"
   },
   "outputs": [
    {
     "data": {
      "image/png": "[encoded data removed]",
      "text/plain": [
       "<Figure size 432x288 with 1 Axes>"
      ]
     },
     "metadata": {
      "tags": []
     },
     "output_type": "display_data"
    }
   ],
   "source": [
    "plt.figure()\n",
    "plt.title('Train and Val Accuracy')\n",
    "plt.plot(range(0,10),pred_model_2.history.history['val_categorical_accuracy'],label='validation_acc')\n",
    "plt.plot(range(0,10),pred_model_2.history.history['categorical_accuracy'],label='train_acc')\n",
    "plt.legend()\n",
    "plt.show()"
   ]
  },
  {
   "cell_type": "markdown",
   "metadata": {
    "colab_type": "text",
    "id": "CAnRS0xFnH4L"
   },
   "source": [
    "#### The best Model achieved a validation accuracy of 92% as shown in the results above."
   ]
  },
  {
   "cell_type": "markdown",
   "metadata": {
    "colab_type": "text",
    "id": "ynH4KFcQnH4N"
   },
   "source": [
    "Try with batch normalization and dropout after every layer."
   ]
  },
  {
   "cell_type": "code",
   "execution_count": 0,
   "metadata": {
    "colab": {},
    "colab_type": "code",
    "id": "xRqHWLStnH4Q",
    "outputId": "acbb8ef2-20a8-41ba-824a-7f9dbacc1e7e"
   },
   "outputs": [
    {
     "name": "stdout",
     "output_type": "stream",
     "text": [
      "_________________________________________________________________\n",
      "Layer (type)                 Output Shape              Param #   \n",
      "=================================================================\n",
      "input (InputLayer)           (None, 15, 200, 200, 3)   0         \n",
      "_________________________________________________________________\n",
      "timeDistributedVgg16 (TimeDi (None, 15, 6, 6, 512)     14714688  \n",
      "_________________________________________________________________\n",
      "time_distributed_4 (TimeDist (None, 15, 6, 6, 512)     0         \n",
      "_________________________________________________________________\n",
      "time_distributed_5 (TimeDist (None, 15, 6, 6, 512)     2048      \n",
      "_________________________________________________________________\n",
      "time_distributed_6 (TimeDist (None, 15, 18432)         0         \n",
      "_________________________________________________________________\n",
      "gru_2 (GRU)                  (None, 100)               5559900   \n",
      "_________________________________________________________________\n",
      "dropout_4 (Dropout)          (None, 100)               0         \n",
      "_________________________________________________________________\n",
      "batch_normalization_4 (Batch (None, 100)               400       \n",
      "_________________________________________________________________\n",
      "dense_2 (Dense)              (None, 5)                 505       \n",
      "=================================================================\n",
      "Total params: 20,277,541\n",
      "Trainable params: 20,276,317\n",
      "Non-trainable params: 1,224\n",
      "_________________________________________________________________\n"
     ]
    }
   ],
   "source": [
    "#write your model here\n",
    "TIMESTEPS = 15\n",
    "inputs = Input(shape=(TIMESTEPS,IMG_SIZE,IMG_SIZE,CHANNELS),name='input')\n",
    "#input_1 = keras.layers.Dropout(0.2)(inputs)\n",
    "output_1 = TimeDistributed(keras.applications.vgg16.VGG16(weights='imagenet',include_top=False,input_shape=(IMG_SIZE,IMG_SIZE,CHANNELS)),name='timeDistributedVgg16')(inputs)\n",
    "output_2 = TimeDistributed(keras.layers.Dropout(0.8))(output_1)\n",
    "output_3 = TimeDistributed(keras.layers.BatchNormalization())(output_2)\n",
    "output_4 = TimeDistributed(Flatten())(output_3)\n",
    "output_5 = GRU(100,return_sequences=False)(output_4)\n",
    "output_6 = keras.layers.Dropout(0.8)(output_5)\n",
    "output_7 = keras.layers.BatchNormalization()(output_6)\n",
    "predictions = Dense(5, activation='softmax')(output_7)\n",
    "\n",
    "pred_model_3 = Model([inputs],predictions)\n",
    "pred_model_3.summary()"
   ]
  },
  {
   "cell_type": "code",
   "execution_count": 0,
   "metadata": {
    "colab": {},
    "colab_type": "code",
    "id": "UnsdH4QFnH4Z"
   },
   "outputs": [],
   "source": [
    "for layer in pred_model_3.layers:\n",
    "    if layer.name == 'timeDistributedVgg16':\n",
    "        layer.trainable = False"
   ]
  },
  {
   "cell_type": "code",
   "execution_count": 0,
   "metadata": {
    "colab": {},
    "colab_type": "code",
    "id": "-AVqLdHGnH4c",
    "outputId": "38138fa2-301c-44ec-d214-fe3011f57d25"
   },
   "outputs": [
    {
     "name": "stdout",
     "output_type": "stream",
     "text": [
      "_________________________________________________________________\n",
      "Layer (type)                 Output Shape              Param #   \n",
      "=================================================================\n",
      "input (InputLayer)           (None, 15, 200, 200, 3)   0         \n",
      "_________________________________________________________________\n",
      "timeDistributedVgg16 (TimeDi (None, 15, 6, 6, 512)     14714688  \n",
      "_________________________________________________________________\n",
      "time_distributed_4 (TimeDist (None, 15, 6, 6, 512)     0         \n",
      "_________________________________________________________________\n",
      "time_distributed_5 (TimeDist (None, 15, 6, 6, 512)     2048      \n",
      "_________________________________________________________________\n",
      "time_distributed_6 (TimeDist (None, 15, 18432)         0         \n",
      "_________________________________________________________________\n",
      "gru_2 (GRU)                  (None, 100)               5559900   \n",
      "_________________________________________________________________\n",
      "dropout_4 (Dropout)          (None, 100)               0         \n",
      "_________________________________________________________________\n",
      "batch_normalization_4 (Batch (None, 100)               400       \n",
      "_________________________________________________________________\n",
      "dense_2 (Dense)              (None, 5)                 505       \n",
      "=================================================================\n",
      "Total params: 20,277,541\n",
      "Trainable params: 5,561,629\n",
      "Non-trainable params: 14,715,912\n",
      "_________________________________________________________________\n"
     ]
    }
   ],
   "source": [
    "pred_model_3.summary()"
   ]
  },
  {
   "cell_type": "code",
   "execution_count": 0,
   "metadata": {
    "colab": {},
    "colab_type": "code",
    "id": "_TUmkqAgnH4h"
   },
   "outputs": [],
   "source": [
    "optimiser = keras.optimizers.RMSprop()#write your optimizer\n",
    "pred_model_3.compile(optimizer=optimiser, loss='categorical_crossentropy', metrics=['categorical_accuracy'])"
   ]
  },
  {
   "cell_type": "code",
   "execution_count": 0,
   "metadata": {
    "colab": {},
    "colab_type": "code",
    "id": "Z9NqQ17rnH4n"
   },
   "outputs": [],
   "source": [
    "model_name = 'model3_init' + '_' + str(curr_dt_time).replace(' ','').replace(':','_') + '/'\n",
    "    \n",
    "if not os.path.exists(model_name):\n",
    "    os.mkdir(model_name)\n",
    "        \n",
    "filepath = model_name + 'model-{epoch:05d}-{loss:.5f}-{categorical_accuracy:.5f}-{val_loss:.5f}-{val_categorical_accuracy:.5f}.h5'\n",
    "\n",
    "checkpoint = ModelCheckpoint(filepath, monitor='val_loss', verbose=5, save_best_only=True, save_weights_only=True, mode='auto', period=1)\n",
    "\n",
    "LR = ReduceLROnPlateau(monitor='val_loss', factor=0.2,\n",
    "                              patience=2)\n",
    "\n",
    "callbacks_list = [checkpoint, LR]"
   ]
  },
  {
   "cell_type": "code",
   "execution_count": 0,
   "metadata": {
    "colab": {},
    "colab_type": "code",
    "id": "jRF6t1cKnH4s",
    "outputId": "3c1eeaed-da14-4636-9e6b-0208b787dd44"
   },
   "outputs": [
    {
     "name": "stdout",
     "output_type": "stream",
     "text": [
      "Epoch 1/10\n",
      "for final batch, size is  3\n",
      "\n",
      "Epoch 00001: val_loss did not improve from 0.50086\n",
      "Epoch 2/10\n",
      "for final batch, size is  3\n",
      "\n",
      "Epoch 00002: val_loss did not improve from 0.50086\n",
      "Epoch 3/10\n",
      "for final batch, size is  3\n",
      "\n",
      "Epoch 00003: val_loss did not improve from 0.50086\n",
      "Epoch 4/10\n",
      "for final batch, size is  3\n",
      "\n",
      "Epoch 00004: val_loss did not improve from 0.50086\n",
      "Epoch 5/10\n",
      "\n",
      "Epoch 00005: val_loss did not improve from 0.50086\n",
      "Epoch 6/10\n",
      "for final batch, size is  3\n",
      "\n",
      "Epoch 00006: val_loss did not improve from 0.50086\n",
      "Epoch 7/10\n",
      "for final batch, size is  3\n",
      "\n",
      "Epoch 00007: val_loss did not improve from 0.50086\n",
      "Epoch 8/10\n",
      "for final batch, size is  3\n",
      "\n",
      "Epoch 00008: val_loss did not improve from 0.50086\n",
      "Epoch 9/10\n",
      "for final batch, size is  3\n",
      "\n",
      "Epoch 00010: val_loss did not improve from 0.50086\n"
     ]
    },
    {
     "data": {
      "text/plain": [
       "<keras.callbacks.History at 0x7f8e362e6a20>"
      ]
     },
     "execution_count": 22,
     "metadata": {
      "tags": []
     },
     "output_type": "execute_result"
    }
   ],
   "source": [
    "pred_model_3.fit_generator(train_generator, steps_per_epoch=steps_per_epoch, epochs=10, verbose=5, \n",
    "                    callbacks=callbacks_list, validation_data=val_generator, \n",
    "                    validation_steps=validation_steps, class_weight=None)"
   ]
  },
  {
   "cell_type": "markdown",
   "metadata": {
    "colab_type": "text",
    "id": "6i9-PSFpnH4x"
   },
   "source": [
    "We will load the best Model and evaluate the result on validation set.<br/>\n",
    "The best model had achieved 81% accuracy on both Train and Validation sets"
   ]
  },
  {
   "cell_type": "code",
   "execution_count": 0,
   "metadata": {
    "colab": {},
    "colab_type": "code",
    "id": "iyhYDN0unH4y"
   },
   "outputs": [],
   "source": [
    "pred_model_3.load_weights('model3_init_2020-02-0309_40_46.191674/model-00010-0.48434-0.81448-0.50561-0.81000.h5')"
   ]
  },
  {
   "cell_type": "code",
   "execution_count": 0,
   "metadata": {
    "colab": {},
    "colab_type": "code",
    "id": "afwDPaoynH44",
    "outputId": "a92f448a-8811-4a6e-b1cd-a19aec2e5396"
   },
   "outputs": [
    {
     "data": {
      "text/plain": [
       "[0.5056131049990654, 0.8099999904632569]"
      ]
     },
     "execution_count": 31,
     "metadata": {
      "tags": []
     },
     "output_type": "execute_result"
    }
   ],
   "source": [
    "pred_model_3.evaluate_generator(val_generator,validation_steps)"
   ]
  },
  {
   "cell_type": "code",
   "execution_count": 0,
   "metadata": {
    "colab": {},
    "colab_type": "code",
    "id": "3Za-RzOmnH4_",
    "outputId": "2d5850f0-4904-4e0c-b367-0ae4501a8c66"
   },
   "outputs": [
    {
     "data": {
      "text/plain": [
       "['loss', 'categorical_accuracy']"
      ]
     },
     "execution_count": 33,
     "metadata": {
      "tags": []
     },
     "output_type": "execute_result"
    }
   ],
   "source": [
    "pred_model_3.metrics_names"
   ]
  },
  {
   "cell_type": "markdown",
   "metadata": {
    "colab_type": "text",
    "id": "oaL8dhSQnH5F"
   },
   "source": [
    "We will try a bidirectional GRU layer"
   ]
  },
  {
   "cell_type": "code",
   "execution_count": 0,
   "metadata": {
    "colab": {},
    "colab_type": "code",
    "id": "elv3pcAvnH5J",
    "outputId": "8362280f-2ff9-4a52-aa02-ceb2272afac6"
   },
   "outputs": [
    {
     "name": "stdout",
     "output_type": "stream",
     "text": [
      "_________________________________________________________________\n",
      "Layer (type)                 Output Shape              Param #   \n",
      "=================================================================\n",
      "input (InputLayer)           (None, 15, 200, 200, 3)   0         \n",
      "_________________________________________________________________\n",
      "timeDistributedVgg16 (TimeDi (None, 15, 6, 6, 512)     14714688  \n",
      "_________________________________________________________________\n",
      "time_distributed_10 (TimeDis (None, 15, 6, 6, 512)     0         \n",
      "_________________________________________________________________\n",
      "time_distributed_11 (TimeDis (None, 15, 6, 6, 512)     2048      \n",
      "_________________________________________________________________\n",
      "time_distributed_12 (TimeDis (None, 15, 18432)         0         \n",
      "_________________________________________________________________\n",
      "bidirectional_1 (Bidirection (None, 200)               11119800  \n",
      "_________________________________________________________________\n",
      "dropout_5 (Dropout)          (None, 200)               0         \n",
      "_________________________________________________________________\n",
      "batch_normalization_5 (Batch (None, 200)               800       \n",
      "_________________________________________________________________\n",
      "dense_1 (Dense)              (None, 5)                 1005      \n",
      "=================================================================\n",
      "Total params: 25,838,341\n",
      "Trainable params: 25,836,917\n",
      "Non-trainable params: 1,424\n",
      "_________________________________________________________________\n"
     ]
    }
   ],
   "source": [
    "#write your model here\n",
    "TIMESTEPS = 15\n",
    "inputs = Input(shape=(TIMESTEPS,IMG_SIZE,IMG_SIZE,CHANNELS),name='input')\n",
    "#input_1 = keras.layers.Dropout(0.2)(inputs)\n",
    "output_1 = TimeDistributed(keras.applications.vgg16.VGG16(weights='imagenet',include_top=False,input_shape=(IMG_SIZE,IMG_SIZE,CHANNELS)),name='timeDistributedVgg16')(inputs)\n",
    "output_2 = TimeDistributed(keras.layers.Dropout(0.8))(output_1)\n",
    "output_3 = TimeDistributed(keras.layers.BatchNormalization())(output_2)\n",
    "output_4 = TimeDistributed(Flatten())(output_3)\n",
    "output_5 = keras.layers.Bidirectional(GRU(100,return_sequences=False))(output_4)\n",
    "output_6 = keras.layers.Dropout(0.8)(output_5)\n",
    "output_7 = keras.layers.BatchNormalization()(output_6)\n",
    "predictions = Dense(5, activation='softmax')(output_7)\n",
    "\n",
    "pred_model_4 = Model([inputs],predictions)\n",
    "pred_model_4.summary()"
   ]
  },
  {
   "cell_type": "code",
   "execution_count": 0,
   "metadata": {
    "colab": {},
    "colab_type": "code",
    "id": "XRtaeVIdnH5M"
   },
   "outputs": [],
   "source": [
    "for layer in pred_model_4.layers:\n",
    "    if layer.name == 'timeDistributedVgg16':\n",
    "        layer.trainable = False"
   ]
  },
  {
   "cell_type": "code",
   "execution_count": 0,
   "metadata": {
    "colab": {},
    "colab_type": "code",
    "id": "Q0Cjfv55nH5Q",
    "outputId": "06f9074a-8f93-4b89-8364-14017abd0601"
   },
   "outputs": [
    {
     "name": "stdout",
     "output_type": "stream",
     "text": [
      "_________________________________________________________________\n",
      "Layer (type)                 Output Shape              Param #   \n",
      "=================================================================\n",
      "input (InputLayer)           (None, 15, 200, 200, 3)   0         \n",
      "_________________________________________________________________\n",
      "timeDistributedVgg16 (TimeDi (None, 15, 6, 6, 512)     14714688  \n",
      "_________________________________________________________________\n",
      "time_distributed_10 (TimeDis (None, 15, 6, 6, 512)     0         \n",
      "_________________________________________________________________\n",
      "time_distributed_11 (TimeDis (None, 15, 6, 6, 512)     2048      \n",
      "_________________________________________________________________\n",
      "time_distributed_12 (TimeDis (None, 15, 18432)         0         \n",
      "_________________________________________________________________\n",
      "bidirectional_1 (Bidirection (None, 200)               11119800  \n",
      "_________________________________________________________________\n",
      "dropout_5 (Dropout)          (None, 200)               0         \n",
      "_________________________________________________________________\n",
      "batch_normalization_5 (Batch (None, 200)               800       \n",
      "_________________________________________________________________\n",
      "dense_1 (Dense)              (None, 5)                 1005      \n",
      "=================================================================\n",
      "Total params: 25,838,341\n",
      "Trainable params: 11,122,229\n",
      "Non-trainable params: 14,716,112\n",
      "_________________________________________________________________\n"
     ]
    }
   ],
   "source": [
    "pred_model_4.summary()"
   ]
  },
  {
   "cell_type": "code",
   "execution_count": 0,
   "metadata": {
    "colab": {},
    "colab_type": "code",
    "id": "UGCwf0CwnH5a"
   },
   "outputs": [],
   "source": [
    "optimiser = keras.optimizers.RMSprop()#write your optimizer\n",
    "pred_model_4.compile(optimizer=optimiser, loss='categorical_crossentropy', metrics=['categorical_accuracy'])"
   ]
  },
  {
   "cell_type": "code",
   "execution_count": 0,
   "metadata": {
    "colab": {},
    "colab_type": "code",
    "id": "49xUqBTXnH5e"
   },
   "outputs": [],
   "source": [
    "model_name = 'model4_init' + '_' + str(curr_dt_time).replace(' ','').replace(':','_') + '/'\n",
    "    \n",
    "if not os.path.exists(model_name):\n",
    "    os.mkdir(model_name)\n",
    "        \n",
    "filepath = model_name + 'model-{epoch:05d}-{loss:.5f}-{categorical_accuracy:.5f}-{val_loss:.5f}-{val_categorical_accuracy:.5f}.h5'\n",
    "\n",
    "checkpoint = ModelCheckpoint(filepath, monitor='val_loss', verbose=5, save_best_only=True, save_weights_only=True, mode='auto', period=1)\n",
    "\n",
    "LR = ReduceLROnPlateau(monitor='val_loss', factor=0.2,\n",
    "                              patience=2)\n",
    "\n",
    "callbacks_list = [checkpoint, LR]"
   ]
  },
  {
   "cell_type": "code",
   "execution_count": 0,
   "metadata": {
    "colab": {},
    "colab_type": "code",
    "id": "ceSgheeunH5l",
    "outputId": "7e7e9bbb-3578-4f28-bc66-846d8ae22568"
   },
   "outputs": [
    {
     "name": "stdout",
     "output_type": "stream",
     "text": [
      "Epoch 1/10\n",
      "for final batch, size is  3\n",
      "\n",
      "Epoch 00001: val_loss improved from 0.54514 to 0.54233, saving model to model4_init_2020-02-0415_41_15.347086/model-00001-0.43126-0.84314-0.54233-0.81000.h5\n",
      "Epoch 2/10\n",
      "for final batch, size is  3\n",
      "\n",
      "Epoch 00002: val_loss did not improve from 0.54233\n",
      "Epoch 3/10\n",
      "for final batch, size is  3\n",
      "\n",
      "Epoch 00003: val_loss did not improve from 0.54233\n",
      "Epoch 4/10\n",
      "for final batch, size is  3\n",
      "\n",
      "Epoch 00004: val_loss did not improve from 0.54233\n",
      "Epoch 5/10\n",
      "for final batch, size is  3\n",
      "\n",
      "Epoch 00005: val_loss did not improve from 0.54233\n",
      "Epoch 6/10\n",
      "for final batch, size is  3\n",
      "\n",
      "Epoch 00006: val_loss did not improve from 0.54233\n",
      "Epoch 7/10\n",
      "for final batch, size is  3\n",
      "\n",
      "Epoch 00007: val_loss improved from 0.54233 to 0.53983, saving model to model4_init_2020-02-0415_41_15.347086/model-00007-0.41714-0.84917-0.53983-0.81000.h5\n",
      "Epoch 8/10\n",
      "for final batch, size is  3\n",
      "\n",
      "Epoch 00008: val_loss did not improve from 0.53983\n",
      "Epoch 9/10\n",
      "for final batch, size is  3\n",
      "\n",
      "Epoch 00009: val_loss did not improve from 0.53983\n",
      "Epoch 10/10\n",
      "for final batch, size is  3\n",
      "\n",
      "Epoch 00010: val_loss did not improve from 0.53983\n"
     ]
    },
    {
     "data": {
      "text/plain": [
       "<keras.callbacks.History at 0x7fd0be54bbe0>"
      ]
     },
     "execution_count": 18,
     "metadata": {
      "tags": []
     },
     "output_type": "execute_result"
    }
   ],
   "source": [
    "pred_model_4.fit_generator(train_generator, steps_per_epoch=steps_per_epoch, epochs=10, verbose=5, \n",
    "                    callbacks=callbacks_list, validation_data=val_generator, \n",
    "                    validation_steps=validation_steps, class_weight=None)"
   ]
  },
  {
   "cell_type": "markdown",
   "metadata": {
    "colab_type": "text",
    "id": "-bMMSOKSocwU"
   },
   "source": [
    "We did not Notice any improvement in the validation accuracy with Bidirectional GRU. Next we are going to use CONV-3D models to see if we perofrm better with fewer parameters."
   ]
  },
  {
   "cell_type": "code",
   "execution_count": 0,
   "metadata": {
    "colab": {},
    "colab_type": "code",
    "id": "e2w2QXmyoqpV"
   },
   "outputs": [],
   "source": []
  },
  {
   "cell_type": "markdown",
   "metadata": {
    "colab_type": "text",
    "id": "ycdZulWNnQDc"
   },
   "source": [
    "First we wil import all required libraries."
   ]
  },
  {
   "cell_type": "code",
   "execution_count": 0,
   "metadata": {
    "colab": {},
    "colab_type": "code",
    "id": "TKXCVvf0nQDj",
    "outputId": "e733ad05-061c-4f41-e028-a407ce9ccc97"
   },
   "outputs": [
    {
     "name": "stderr",
     "output_type": "stream",
     "text": [
      "Using TensorFlow backend.\n"
     ]
    }
   ],
   "source": [
    "import numpy as np\n",
    "import os\n",
    "from scipy.misc import imread, imresize\n",
    "import datetime\n",
    "import os\n",
    "from skimage.transform import rescale, resize\n",
    "import matplotlib.pyplot as plt\n",
    "% matplotlib inline\n",
    "import warnings\n",
    "warnings.filterwarnings('ignore')\n",
    "\n",
    "import keras\n",
    "from keras.models import Sequential, Model\n",
    "from keras.layers import Dense, GRU, Flatten, Dropout, TimeDistributed, Flatten, BatchNormalization, Activation, Input\n",
    "from keras.layers.convolutional import Conv3D, MaxPooling3D\n",
    "from keras.callbacks import ModelCheckpoint, ReduceLROnPlateau\n",
    "from keras import optimizers\n",
    "from keras.applications import *\n",
    "import matplotlib.pyplot as plt"
   ]
  },
  {
   "cell_type": "markdown",
   "metadata": {
    "colab_type": "text",
    "id": "IPPeTF7wnQD2"
   },
   "source": [
    "We set the random seed so that the results don't vary drastically."
   ]
  },
  {
   "cell_type": "code",
   "execution_count": 0,
   "metadata": {
    "colab": {},
    "colab_type": "code",
    "id": "uNfxKoo0nQD6"
   },
   "outputs": [],
   "source": [
    "np.random.seed(30)\n",
    "import random as rn\n",
    "rn.seed(30)\n",
    "from keras import backend as K\n",
    "import tensorflow as tf\n",
    "tf.set_random_seed(30)"
   ]
  },
  {
   "cell_type": "markdown",
   "metadata": {
    "colab_type": "text",
    "id": "CA0eYusSnQED"
   },
   "source": [
    "In this block, you read the folder names for training and validation. You also set the `batch_size` here. Note that you set the batch size in such a way that you are able to use the GPU in full capacity. You keep increasing the batch size until the machine throws an error."
   ]
  },
  {
   "cell_type": "code",
   "execution_count": 0,
   "metadata": {
    "colab": {},
    "colab_type": "code",
    "id": "zZRaZH5MnQEG"
   },
   "outputs": [],
   "source": [
    "train_doc = np.random.permutation(open('Project_data/train.csv').readlines())\n",
    "val_doc = np.random.permutation(open('Project_data/val.csv').readlines())"
   ]
  },
  {
   "cell_type": "markdown",
   "metadata": {
    "colab_type": "text",
    "id": "yVdafVKFnQEP"
   },
   "source": [
    "The `steps_per_epoch` and `validation_steps` are used by `fit_generator` to decide the number of next() calls it need to make."
   ]
  },
  {
   "cell_type": "code",
   "execution_count": 0,
   "metadata": {
    "colab": {},
    "colab_type": "code",
    "id": "5MnSg2_cnQEQ"
   },
   "outputs": [],
   "source": [
    "train_path = 'Project_data/train'\n",
    "val_path = 'Project_data/val'\n",
    "num_train_sequences = len(train_doc) #change training data size for initial phase\n",
    "num_val_sequences = len(val_doc) #val training data can be kept as such\n",
    "num_epochs = 30 # choose the number of epochs\n",
    "batch_size = 100 #experiment with the batch size"
   ]
  },
  {
   "cell_type": "markdown",
   "metadata": {
    "colab_type": "text",
    "id": "qIwGlHuunQEZ"
   },
   "source": [
    "## Generator\n",
    "This is one of the most important part of the code. The overall structure of the generator has been given. In the generator, you are going to preprocess the images as you have images of 2 different dimensions as well as create a batch of video frames. You have to experiment with `img_idx`, `y`,`z` and normalization such that you get high accuracy."
   ]
  },
  {
   "cell_type": "code",
   "execution_count": 0,
   "metadata": {
    "colab": {},
    "colab_type": "code",
    "id": "kYC6VtBLnQEc"
   },
   "outputs": [],
   "source": [
    "IMG_SIZE = 120\n",
    "CHANNELS = 3\n",
    "def generator(source_path, folder_list, batch_size):\n",
    "    print( 'Source path = ', source_path, '; batch size =', batch_size)\n",
    "    \n",
    "    #note using alternate 15 images here\n",
    "    img_idx = list(range(0,30,2))#create a list of image numbers you want to use for a particular video\n",
    "    #img_idx = list(range(5, 25)) #taking middle frames only\n",
    "    orig_batch_size = batch_size\n",
    "    while True:\n",
    "        \n",
    "        t = np.random.permutation(folder_list)\n",
    "        batch_size = orig_batch_size\n",
    "        if(len(folder_list)%batch_size)==0:\n",
    "            num_batches = int(len(folder_list)/batch_size)# calculate the number of batches\n",
    "        else:\n",
    "            num_batches = int((len(folder_list)//batch_size) + 1)# calculate the number of batches\n",
    "        \n",
    "        for batch in range(num_batches): # we iterate over the number of batches\n",
    "            \n",
    "            if(batch==num_batches-1) and (len(folder_list)%batch_size)!=0:\n",
    "                batch_size =  int(len(folder_list)%batch_size)\n",
    "                #print('for final batch, size is ',batch_size)\n",
    "                \n",
    "            batch_data = np.zeros((batch_size,len(img_idx),IMG_SIZE,IMG_SIZE,CHANNELS)) # x is the number of images you use for each video, (y,z) is the final size of the input images and 3 is the number of channels RGB            \n",
    "            batch_labels = np.zeros((batch_size,5)) # batch_labels is the one hot representation of the output\n",
    "            \n",
    "            #act_batch_data = np.zeros((batch_size,len(img_idx),100352))\n",
    "            for folder in range(batch_size): # iterate over the batch_size\n",
    "                imgs = os.listdir(source_path+'/'+ t[folder + (batch*batch_size)].split(';')[0]) # read all the images in the folder\n",
    "                \n",
    "                for idx,item in enumerate(img_idx): #  Iterate iver the frames/images of a folder to read them in\n",
    "                    #print('img_idx',img_idx)\n",
    "                    image = imread(source_path+'/'+ t[folder + (batch*batch_size)].strip().split(';')[0]+'/'+imgs[item])\n",
    "                    #print('read image')\n",
    "                    image = imresize(image, (IMG_SIZE, IMG_SIZE))\n",
    "                    #(image[:,:,0] - np.mean(image[:,:,0]))/np.std(image[:,:,0])\n",
    "                    batch_data[folder,idx,:,:,0] = (image[:,:,0] - np.mean(image[:,:,0]))/np.std(image[:,:,0])\n",
    "                    batch_data[folder,idx,:,:,1] = (image[:,:,1] - np.mean(image[:,:,1]))/np.std(image[:,:,1])\n",
    "                    batch_data[folder,idx,:,:,2] = (image[:,:,2] - np.mean(image[:,:,2]))/np.std(image[:,:,2])\n",
    "                    #(image[:,:,2] - np.percentile(image[:,:,2], 5))/(np.percentile(image[:,:,2], 95) - np.percentile(image[:,:,2], 5))\n",
    "                    \n",
    "                batch_labels[folder, int(t[folder + (batch*batch_size)].strip().split(';')[2])] = 1\n",
    "                \n",
    "            yield batch_data, batch_labels #you yield the batch_data and the batch_labels, remember what does yield do"
   ]
  },
  {
   "cell_type": "markdown",
   "metadata": {
    "colab_type": "text",
    "id": "ybsCQak_nQEk"
   },
   "source": [
    "Note here that a video is represented above in the generator as (number of images, height, width, number of channels). Take this into consideration while creating the model architecture."
   ]
  },
  {
   "cell_type": "markdown",
   "metadata": {
    "colab_type": "text",
    "id": "9S78A4pDnQEm"
   },
   "source": [
    "## Model\n",
    "Here you make the model using different functionalities that Keras provides. Remember to use `Conv3D` and `MaxPooling3D` and not `Conv2D` and `Maxpooling2D` for a 3D convolution model. You would want to use `TimeDistributed` while building a Conv2D + RNN model. Also remember that the last layer is the softmax. Design the network in such a way that the model is able to give good accuracy on the least number of parameters so that it can fit in the memory of the webcam."
   ]
  },
  {
   "cell_type": "code",
   "execution_count": 0,
   "metadata": {
    "colab": {},
    "colab_type": "code",
    "id": "-yttFKAFnQEp"
   },
   "outputs": [],
   "source": [
    "def CNN3D():\n",
    "    model = Sequential()\n",
    "\n",
    "    model.add(Conv3D(16, kernel_size=(3, 3, 3), activation = 'relu', input_shape = (15, 120, 120, 3), padding='same'))\n",
    "    model.add(BatchNormalization())\n",
    "    model.add(MaxPooling3D(pool_size=(2, 2, 2)))\n",
    "\n",
    "    model.add(Conv3D(32, kernel_size = (3, 3, 3), activation = 'relu', padding='same'))\n",
    "    model.add(BatchNormalization())\n",
    "    model.add(MaxPooling3D(pool_size=(1, 2, 2), strides = (1,2,2)))\n",
    "\n",
    "    model.add(Conv3D(64, kernel_size = (3, 3, 3), activation = 'relu', padding='same'))\n",
    "    model.add(BatchNormalization())\n",
    "    model.add(MaxPooling3D(pool_size=(2, 2, 2)))\n",
    "\n",
    "    model.add(Conv3D(128, kernel_size = (3, 3, 3), activation = 'relu', padding='same'))\n",
    "    model.add(BatchNormalization())\n",
    "    model.add(MaxPooling3D(pool_size=(2, 2, 2)))\n",
    "    \n",
    "    model.add(Flatten())\n",
    "    model.add(Dropout(0.5))\n",
    "    model.add(Dense(128, activation='relu'))\n",
    "    model.add(Dropout(0.5))\n",
    "\n",
    "    model.add(Dense(5, activation = 'softmax'))\n",
    "    return model\n",
    "    return model"
   ]
  },
  {
   "cell_type": "code",
   "execution_count": 0,
   "metadata": {
    "colab": {},
    "colab_type": "code",
    "id": "82gh8_T8nQEz"
   },
   "outputs": [],
   "source": [
    "def VGG16_CNN3D():\n",
    "    TIMESTEPS = 15\n",
    "    inputs = Input(shape=(TIMESTEPS,IMG_SIZE,IMG_SIZE,CHANNELS),name='input')\n",
    "    #input_1 = keras.layers.Dropout(0.2)(inputs)\n",
    "    output_1 = TimeDistributed(keras.applications.vgg16.VGG16(weights='imagenet',include_top=False,input_shape=(IMG_SIZE,IMG_SIZE,CHANNELS)),name='timeDistributedVgg16')(inputs)\n",
    "    output_2 = TimeDistributed(keras.layers.Dropout(0.8))(output_1)\n",
    "    output_3 = TimeDistributed(keras.layers.BatchNormalization())(output_2)\n",
    "\n",
    "    output_5 = Conv3D(64,kernel_size = (3, 3, 3), activation = 'relu', padding='same')(output_3)\n",
    "    output_6 = keras.layers.BatchNormalization()(output_5)\n",
    "    output_7 = MaxPooling3D(pool_size=(2, 2, 2))(output_6)\n",
    "\n",
    "    output_8 = Flatten()(output_7)\n",
    "    output_9 = Dense(256, activation='relu')(output_8)\n",
    "    output_10 = keras.layers.Dropout(0.5)(output_9)\n",
    "    output_11 = Dense(128, activation='relu')(output_10)\n",
    "    output_12 = keras.layers.Dropout(0.5)(output_11)\n",
    "    predictions = Dense(5, activation = 'softmax')(output_12)\n",
    "\n",
    "    model = Model([inputs],predictions)\n",
    "    \n",
    "    #freezing the vgg16 layers\n",
    "    for layer in model.layers:\n",
    "        if layer.name == 'timeDistributedVgg16':\n",
    "            layer.trainable = False\n",
    "        \n",
    "    return model"
   ]
  },
  {
   "cell_type": "code",
   "execution_count": 0,
   "metadata": {
    "colab": {},
    "colab_type": "code",
    "id": "iV8m5jWGnQE4"
   },
   "outputs": [],
   "source": [
    "def model_generator(modeltype):\n",
    "    if modeltype == 1:\n",
    "        return CNN3D()\n",
    "    if modeltype == 2:\n",
    "        return Pretrained_CNN3D()"
   ]
  },
  {
   "cell_type": "markdown",
   "metadata": {
    "colab_type": "text",
    "id": "Qb054fqCnQE_"
   },
   "source": [
    "Now that you have written the model, the next step is to `compile` the model. When you print the `summary` of the model, you'll see the total number of parameters you have to train."
   ]
  },
  {
   "cell_type": "markdown",
   "metadata": {
    "colab_type": "text",
    "id": "jvUa-0UfnQFC"
   },
   "source": [
    "#### Callbacks"
   ]
  },
  {
   "cell_type": "code",
   "execution_count": 0,
   "metadata": {
    "colab": {},
    "colab_type": "code",
    "id": "H1RjS6CfnQFG"
   },
   "outputs": [],
   "source": [
    "curr_dt_time = datetime.datetime.now()\n",
    "model_name = 'model_init' + '_' + str(curr_dt_time).replace(' ','').replace(':','_') + '/'\n",
    "    \n",
    "if not os.path.exists(model_name):\n",
    "    os.mkdir(model_name)\n",
    "        \n",
    "filepath = model_name + 'model-{epoch:05d}-{loss:.5f}-{categorical_accuracy:.5f}-{val_loss:.5f}-{val_categorical_accuracy:.5f}.h5'\n",
    "\n",
    "checkpoint = ModelCheckpoint(filepath, monitor='val_loss', verbose=1, save_weights_only=True, mode='auto', period=1)\n",
    "\n",
    "#pateince = after how many epochs the learning rate should be reduced.\n",
    "LR = ReduceLROnPlateau(monitor='val_loss', factor=0.5, patience=4 , cooldown=1, verbose=1)\n",
    "callbacks_list = [LR, checkpoint]"
   ]
  },
  {
   "cell_type": "markdown",
   "metadata": {
    "colab_type": "text",
    "id": "G7i7rWvxnQFN"
   },
   "source": [
    "#### Steps per Epoch, Validation steps"
   ]
  },
  {
   "cell_type": "code",
   "execution_count": 0,
   "metadata": {
    "colab": {},
    "colab_type": "code",
    "id": "NP7SEXktnQFQ"
   },
   "outputs": [],
   "source": [
    "if (num_train_sequences%batch_size) == 0:\n",
    "    steps_per_epoch = int(num_train_sequences/batch_size)\n",
    "else:\n",
    "    steps_per_epoch = (num_train_sequences//batch_size) + 1\n",
    "\n",
    "if (num_val_sequences%batch_size) == 0:\n",
    "    validation_steps = int(num_val_sequences/batch_size)\n",
    "else:\n",
    "    validation_steps = (num_val_sequences//batch_size) + 1"
   ]
  },
  {
   "cell_type": "code",
   "execution_count": 0,
   "metadata": {
    "colab": {},
    "colab_type": "code",
    "id": "04vPnzxCnQFZ",
    "outputId": "a7b5bcaf-87ac-4ede-c40a-145aa4f1077f"
   },
   "outputs": [
    {
     "name": "stdout",
     "output_type": "stream",
     "text": [
      "# training sequences = 663\n",
      "# validation sequences = 100\n",
      "# epochs = 30\n",
      "# batch size =  100\n",
      "steps per epoch =  7\n",
      "validation steps =  1\n"
     ]
    }
   ],
   "source": [
    "print('# training sequences =', num_train_sequences)\n",
    "print('# validation sequences =', num_val_sequences)\n",
    "print ('# epochs =', num_epochs)\n",
    "print('# batch size = ', batch_size)\n",
    "print('steps per epoch = ' , steps_per_epoch)\n",
    "print('validation steps = ', validation_steps)"
   ]
  },
  {
   "cell_type": "code",
   "execution_count": 0,
   "metadata": {
    "colab": {},
    "colab_type": "code",
    "id": "vRAHE7FpnQFg",
    "outputId": "e19370d2-98f6-4ec7-fa57-e1f9c3448b0f"
   },
   "outputs": [
    {
     "name": "stdout",
     "output_type": "stream",
     "text": [
      "_________________________________________________________________\n",
      "Layer (type)                 Output Shape              Param #   \n",
      "=================================================================\n",
      "conv3d_1 (Conv3D)            (None, 15, 120, 120, 16)  1312      \n",
      "_________________________________________________________________\n",
      "batch_normalization_1 (Batch (None, 15, 120, 120, 16)  64        \n",
      "_________________________________________________________________\n",
      "max_pooling3d_1 (MaxPooling3 (None, 7, 60, 60, 16)     0         \n",
      "_________________________________________________________________\n",
      "conv3d_2 (Conv3D)            (None, 7, 60, 60, 32)     13856     \n",
      "_________________________________________________________________\n",
      "batch_normalization_2 (Batch (None, 7, 60, 60, 32)     128       \n",
      "_________________________________________________________________\n",
      "max_pooling3d_2 (MaxPooling3 (None, 7, 30, 30, 32)     0         \n",
      "_________________________________________________________________\n",
      "conv3d_3 (Conv3D)            (None, 7, 30, 30, 64)     55360     \n",
      "_________________________________________________________________\n",
      "batch_normalization_3 (Batch (None, 7, 30, 30, 64)     256       \n",
      "_________________________________________________________________\n",
      "max_pooling3d_3 (MaxPooling3 (None, 3, 15, 15, 64)     0         \n",
      "_________________________________________________________________\n",
      "conv3d_4 (Conv3D)            (None, 3, 15, 15, 128)    221312    \n",
      "_________________________________________________________________\n",
      "batch_normalization_4 (Batch (None, 3, 15, 15, 128)    512       \n",
      "_________________________________________________________________\n",
      "max_pooling3d_4 (MaxPooling3 (None, 1, 7, 7, 128)      0         \n",
      "_________________________________________________________________\n",
      "flatten_1 (Flatten)          (None, 6272)              0         \n",
      "_________________________________________________________________\n",
      "dropout_1 (Dropout)          (None, 6272)              0         \n",
      "_________________________________________________________________\n",
      "dense_1 (Dense)              (None, 128)               802944    \n",
      "_________________________________________________________________\n",
      "dropout_2 (Dropout)          (None, 128)               0         \n",
      "_________________________________________________________________\n",
      "dense_2 (Dense)              (None, 5)                 645       \n",
      "=================================================================\n",
      "Total params: 1,096,389\n",
      "Trainable params: 1,095,909\n",
      "Non-trainable params: 480\n",
      "_________________________________________________________________\n"
     ]
    }
   ],
   "source": [
    "#1 for CNN3D\n",
    "#2 for VGG16_CNN3D\n",
    "model = model_generator(3)"
   ]
  },
  {
   "cell_type": "markdown",
   "metadata": {
    "colab_type": "text",
    "id": "_mQMY2WpnQFn"
   },
   "source": [
    "#### Optimisers"
   ]
  },
  {
   "cell_type": "code",
   "execution_count": 0,
   "metadata": {
    "colab": {},
    "colab_type": "code",
    "id": "3YwwPwVpnQFo",
    "scrolled": true
   },
   "outputs": [],
   "source": [
    "#optimiser = optimizers.SGD(lr=0.001, momentum=0.9)#write your optimizer\n",
    "#SGD(lr=0.0001, momentum = 0.9)#SGD(lr=0.01, decay=1e-6, momentum=0.9, nesterov=True)\n",
    "\n",
    "optimiser = optimizers.Adam()\n",
    "model.compile(optimizer=optimiser, loss='categorical_crossentropy', metrics=['categorical_accuracy'])"
   ]
  },
  {
   "cell_type": "markdown",
   "metadata": {
    "colab_type": "text",
    "id": "kw7zQzrbnQFv"
   },
   "source": [
    "Let us create the `train_generator` and the `val_generator` which will be used in `.fit_generator`."
   ]
  },
  {
   "cell_type": "markdown",
   "metadata": {
    "colab_type": "text",
    "id": "YOWiQ8CCnQFz"
   },
   "source": [
    "#### Generators"
   ]
  },
  {
   "cell_type": "code",
   "execution_count": 0,
   "metadata": {
    "colab": {},
    "colab_type": "code",
    "id": "Fm3VYbh7nQF1"
   },
   "outputs": [],
   "source": [
    "train_generator = generator(train_path, train_doc, batch_size)\n",
    "val_generator = generator(val_path, val_doc, batch_size)"
   ]
  },
  {
   "cell_type": "markdown",
   "metadata": {
    "colab_type": "text",
    "id": "sFwFohNMnQGB"
   },
   "source": [
    "#### Model summary"
   ]
  },
  {
   "cell_type": "code",
   "execution_count": 0,
   "metadata": {
    "colab": {},
    "colab_type": "code",
    "id": "U8--D0V4nQGD"
   },
   "outputs": [],
   "source": [
    "model.summary()"
   ]
  },
  {
   "cell_type": "markdown",
   "metadata": {
    "colab_type": "text",
    "id": "iwNQY88-nQGJ"
   },
   "source": [
    "#### Fit generators"
   ]
  },
  {
   "cell_type": "markdown",
   "metadata": {
    "colab_type": "text",
    "id": "whemRre1nQGK"
   },
   "source": [
    "Let us now fit the model. This will start training the model and with the help of the checkpoints, you'll be able to save the model at the end of each epoch."
   ]
  },
  {
   "cell_type": "code",
   "execution_count": 0,
   "metadata": {
    "colab": {},
    "colab_type": "code",
    "id": "rkaaMit9nQGN",
    "outputId": "8c578f0d-d578-42c1-e03d-8e9a39a72a85"
   },
   "outputs": [
    {
     "name": "stdout",
     "output_type": "stream",
     "text": [
      "Source path =  Project_data/val ; batch size = 100\n",
      "Source path =  Project_data/train Epoch 1/30; batch size = 100\n",
      "\n",
      "7/7 [==============================] - 106s 15s/step - loss: 4.3290 - categorical_accuracy: 0.2340 - val_loss: 1.7024 - val_categorical_accuracy: 0.2400\n",
      "\n",
      "Epoch 00001: saving model to model_init_2020-02-1013_33_48.342472/model-00001-4.46020-0.23077-1.70237-0.24000.h5\n",
      "Epoch 2/30\n",
      "7/7 [==============================] - 41s 6s/step - loss: 1.5521 - categorical_accuracy: 0.3673 - val_loss: 1.4880 - val_categorical_accuracy: 0.3100\n",
      "\n",
      "Epoch 00002: saving model to model_init_2020-02-1013_33_48.342472/model-00002-1.55887-0.36199-1.48802-0.31000.h5\n",
      "Epoch 3/30\n",
      "7/7 [==============================] - 38s 5s/step - loss: 1.4412 - categorical_accuracy: 0.3535 - val_loss: 1.4619 - val_categorical_accuracy: 0.2800\n",
      "\n",
      "Epoch 00003: saving model to model_init_2020-02-1013_33_48.342472/model-00003-1.44048-0.35294-1.46189-0.28000.h5\n",
      "Epoch 4/30\n",
      "7/7 [==============================] - 38s 5s/step - loss: 1.3449 - categorical_accuracy: 0.3960 - val_loss: 1.3336 - val_categorical_accuracy: 0.4900\n",
      "\n",
      "Epoch 00004: saving model to model_init_2020-02-1013_33_48.342472/model-00004-1.34701-0.39668-1.33360-0.49000.h5\n",
      "Epoch 5/30\n",
      "7/7 [==============================] - 38s 5s/step - loss: 1.2452 - categorical_accuracy: 0.4652 - val_loss: 1.2651 - val_categorical_accuracy: 0.5400\n",
      "\n",
      "Epoch 00005: saving model to model_init_2020-02-1013_33_48.342472/model-00005-1.24989-0.46154-1.26509-0.54000.h5\n",
      "Epoch 6/30\n",
      "7/7 [==============================] - 39s 6s/step - loss: 1.1727 - categorical_accuracy: 0.5090 - val_loss: 1.1404 - val_categorical_accuracy: 0.5500\n",
      "\n",
      "Epoch 00006: saving model to model_init_2020-02-1013_33_48.342472/model-00006-1.16961-0.51131-1.14039-0.55000.h5\n",
      "Epoch 7/30\n",
      "7/7 [==============================] - 38s 5s/step - loss: 1.0372 - categorical_accuracy: 0.5651 - val_loss: 1.0085 - val_categorical_accuracy: 0.6200\n",
      "\n",
      "Epoch 00007: saving model to model_init_2020-02-1013_33_48.342472/model-00007-1.03917-0.56712-1.00847-0.62000.h5\n",
      "Epoch 8/30\n",
      "7/7 [==============================] - 38s 5s/step - loss: 0.9465 - categorical_accuracy: 0.6407 - val_loss: 0.9979 - val_categorical_accuracy: 0.6600\n",
      "\n",
      "Epoch 00008: saving model to model_init_2020-02-1013_33_48.342472/model-00008-0.94947-0.64103-0.99794-0.66000.h5\n",
      "Epoch 9/30\n",
      "7/7 [==============================] - 38s 5s/step - loss: 0.8751 - categorical_accuracy: 0.6515 - val_loss: 0.8311 - val_categorical_accuracy: 0.6800\n",
      "\n",
      "Epoch 00009: saving model to model_init_2020-02-1013_33_48.342472/model-00009-0.87646-0.65309-0.83108-0.68000.h5\n",
      "Epoch 10/30\n",
      "7/7 [==============================] - 38s 5s/step - loss: 0.7855 - categorical_accuracy: 0.6854 - val_loss: 0.7458 - val_categorical_accuracy: 0.7400\n",
      "\n",
      "Epoch 00010: saving model to model_init_2020-02-1013_33_48.342472/model-00010-0.78459-0.68477-0.74583-0.74000.h5\n",
      "Epoch 11/30\n",
      "7/7 [==============================] - 37s 5s/step - loss: 0.7187 - categorical_accuracy: 0.7120 - val_loss: 0.7992 - val_categorical_accuracy: 0.6800\n",
      "\n",
      "Epoch 00011: saving model to model_init_2020-02-1013_33_48.342472/model-00011-0.72418-0.71192-0.79919-0.68000.h5\n",
      "Epoch 12/30\n",
      "7/7 [==============================] - 38s 5s/step - loss: 0.6824 - categorical_accuracy: 0.7344 - val_loss: 0.8528 - val_categorical_accuracy: 0.6500\n",
      "\n",
      "Epoch 00012: saving model to model_init_2020-02-1013_33_48.342472/model-00012-0.68288-0.73303-0.85277-0.65000.h5\n",
      "Epoch 13/30\n",
      "7/7 [==============================] - 38s 5s/step - loss: 0.6176 - categorical_accuracy: 0.7516 - val_loss: 0.8844 - val_categorical_accuracy: 0.6900\n",
      "\n",
      "Epoch 00013: saving model to model_init_2020-02-1013_33_48.342472/model-00013-0.61790-0.75264-0.88442-0.69000.h5\n",
      "Epoch 14/30\n",
      "7/7 [==============================] - 38s 5s/step - loss: 0.5459 - categorical_accuracy: 0.7675 - val_loss: 0.6881 - val_categorical_accuracy: 0.7400\n",
      "\n",
      "Epoch 00014: saving model to model_init_2020-02-1013_33_48.342472/model-00014-0.55106-0.76621-0.68808-0.74000.h5\n",
      "Epoch 15/30\n",
      "7/7 [==============================] - 38s 5s/step - loss: 0.5290 - categorical_accuracy: 0.8079 - val_loss: 0.8046 - val_categorical_accuracy: 0.7200\n",
      "\n",
      "Epoch 00015: saving model to model_init_2020-02-1013_33_48.342472/model-00015-0.53483-0.80241-0.80465-0.72000.h5\n",
      "Epoch 16/30\n",
      "7/7 [==============================] - 38s 5s/step - loss: 0.5106 - categorical_accuracy: 0.8157 - val_loss: 0.7239 - val_categorical_accuracy: 0.7600\n",
      "\n",
      "Epoch 00016: saving model to model_init_2020-02-1013_33_48.342472/model-00016-0.50948-0.81599-0.72390-0.76000.h5\n",
      "Epoch 17/30\n",
      "7/7 [==============================] - 38s 5s/step - loss: 0.5293 - categorical_accuracy: 0.7977 - val_loss: 0.9094 - val_categorical_accuracy: 0.7000\n",
      "\n",
      "Epoch 00017: saving model to model_init_2020-02-1013_33_48.342472/model-00017-0.52926-0.79638-0.90938-0.70000.h5\n",
      "Epoch 18/30\n",
      "7/7 [==============================] - 37s 5s/step - loss: 0.4202 - categorical_accuracy: 0.8445 - val_loss: 0.9088 - val_categorical_accuracy: 0.7200\n",
      "\n",
      "Epoch 00018: ReduceLROnPlateau reducing learning rate to 0.0005000000237487257.\n",
      "\n",
      "Epoch 00018: saving model to model_init_2020-02-1013_33_48.342472/model-00018-0.42202-0.84163-0.90880-0.72000.h5\n",
      "Epoch 19/30\n",
      "7/7 [==============================] - 38s 5s/step - loss: 0.4140 - categorical_accuracy: 0.8352 - val_loss: 0.8525 - val_categorical_accuracy: 0.7300\n",
      "\n",
      "Epoch 00019: saving model to model_init_2020-02-1013_33_48.342472/model-00019-0.41168-0.83409-0.85248-0.73000.h5\n",
      "Epoch 20/30\n",
      "7/7 [==============================] - 39s 6s/step - loss: 0.2841 - categorical_accuracy: 0.8863 - val_loss: 0.7106 - val_categorical_accuracy: 0.8000\n",
      "\n",
      "Epoch 00020: saving model to model_init_2020-02-1013_33_48.342472/model-00020-0.28791-0.88386-0.71062-0.80000.h5\n",
      "Epoch 21/30\n",
      "7/7 [==============================] - 38s 5s/step - loss: 0.3336 - categorical_accuracy: 0.8848 - val_loss: 0.9683 - val_categorical_accuracy: 0.7200\n",
      "\n",
      "Epoch 00021: saving model to model_init_2020-02-1013_33_48.342472/model-00021-0.32901-0.88537-0.96828-0.72000.h5\n",
      "Epoch 22/30\n",
      "7/7 [==============================] - 39s 6s/step - loss: 0.3182 - categorical_accuracy: 0.8755 - val_loss: 0.7915 - val_categorical_accuracy: 0.8000\n",
      "\n",
      "Epoch 00022: ReduceLROnPlateau reducing learning rate to 0.0002500000118743628.\n",
      "\n",
      "Epoch 00022: saving model to model_init_2020-02-1013_33_48.342472/model-00022-0.32150-0.87481-0.79151-0.80000.h5\n",
      "Epoch 23/30\n",
      "7/7 [==============================] - 38s 5s/step - loss: 0.2625 - categorical_accuracy: 0.8985 - val_loss: 0.8293 - val_categorical_accuracy: 0.7700\n",
      "\n",
      "Epoch 00023: saving model to model_init_2020-02-1013_33_48.342472/model-00023-0.26557-0.89744-0.82928-0.77000.h5\n",
      "Epoch 24/30\n",
      "7/7 [==============================] - 38s 5s/step - loss: 0.2550 - categorical_accuracy: 0.8913 - val_loss: 0.9538 - val_categorical_accuracy: 0.7300\n",
      "\n",
      "Epoch 00024: saving model to model_init_2020-02-1013_33_48.342472/model-00024-0.26076-0.88839-0.95382-0.73000.h5\n",
      "Epoch 25/30\n",
      "7/7 [==============================] - 38s 5s/step - loss: 0.2504 - categorical_accuracy: 0.9013 - val_loss: 0.8271 - val_categorical_accuracy: 0.7100\n",
      "\n",
      "Epoch 00025: saving model to model_init_2020-02-1013_33_48.342472/model-00025-0.24702-0.90347-0.82705-0.71000.h5\n",
      "Epoch 26/30\n",
      "7/7 [==============================] - 37s 5s/step - loss: 0.2396 - categorical_accuracy: 0.9086 - val_loss: 0.6967 - val_categorical_accuracy: 0.7900\n",
      "\n",
      "Epoch 00026: ReduceLROnPlateau reducing learning rate to 0.0001250000059371814.\n",
      "\n",
      "Epoch 00026: saving model to model_init_2020-02-1013_33_48.342472/model-00026-0.24160-0.90649-0.69668-0.79000.h5\n",
      "Epoch 27/30\n",
      "7/7 [==============================] - 38s 5s/step - loss: 0.2302 - categorical_accuracy: 0.9057 - val_loss: 0.7010 - val_categorical_accuracy: 0.7800\n",
      "\n",
      "Epoch 00027: saving model to model_init_2020-02-1013_33_48.342472/model-00027-0.22990-0.90498-0.70099-0.78000.h5\n",
      "Epoch 28/30\n",
      "7/7 [==============================] - 39s 6s/step - loss: 0.2401 - categorical_accuracy: 0.9035 - val_loss: 0.7454 - val_categorical_accuracy: 0.7900\n",
      "\n",
      "Epoch 00028: saving model to model_init_2020-02-1013_33_48.342472/model-00028-0.23883-0.90347-0.74535-0.79000.h5\n",
      "Epoch 29/30\n",
      "7/7 [==============================] - 37s 5s/step - loss: 0.2143 - categorical_accuracy: 0.9180 - val_loss: 0.7207 - val_categorical_accuracy: 0.8100\n",
      "\n",
      "Epoch 00029: saving model to model_init_2020-02-1013_33_48.342472/model-00029-0.21781-0.91554-0.72068-0.81000.h5\n",
      "Epoch 30/30\n",
      "7/7 [==============================] - 38s 5s/step - loss: 0.2234 - categorical_accuracy: 0.9158 - val_loss: 0.6872 - val_categorical_accuracy: 0.8100\n",
      "\n",
      "Epoch 00030: saving model to model_init_2020-02-1013_33_48.342472/model-00030-0.22240-0.91554-0.68717-0.81000.h5\n"
     ]
    },
    {
     "data": {
      "text/plain": [
       "<keras.callbacks.History at 0x7fc4bb9a0908>"
      ]
     },
     "execution_count": 19,
     "metadata": {
      "tags": []
     },
     "output_type": "execute_result"
    }
   ],
   "source": [
    "model.fit_generator(train_generator, steps_per_epoch=steps_per_epoch, epochs=num_epochs, verbose=1, \n",
    "                    callbacks=callbacks_list, validation_data=val_generator, \n",
    "                    validation_steps=validation_steps, class_weight=None, workers=1, initial_epoch=0)"
   ]
  },
  {
   "cell_type": "markdown",
   "metadata": {
    "colab_type": "text",
    "id": "_uERHg6fpGtu"
   },
   "source": [
    "The Best CONV3D model achieved 81% Accuracy on the validation Set with 1 million parameters.\n",
    "This we will use as final model as it has manageable size of parameters."
   ]
  },
  {
   "cell_type": "code",
   "execution_count": 0,
   "metadata": {
    "colab": {},
    "colab_type": "code",
    "id": "t-Sj0blhpX21"
   },
   "outputs": [],
   "source": []
  }
 ],
 "metadata": {
  "colab": {
   "collapsed_sections": [],
   "name": "Swayam_Shubham_Gesture_recognition.ipynb",
   "provenance": []
  },
  "kernelspec": {
   "display_name": "Python 3",
   "language": "python",
   "name": "python3"
  },
  "language_info": {
   "codemirror_mode": {
    "name": "ipython",
    "version": 3
   },
   "file_extension": ".py",
   "mimetype": "text/x-python",
   "name": "python",
   "nbconvert_exporter": "python",
   "pygments_lexer": "ipython3",
   "version": "3.7.3"
  }
 },
 "nbformat": 4,
 "nbformat_minor": 1
}
